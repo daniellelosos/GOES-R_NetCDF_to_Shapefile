{
 "cells": [
  {
   "cell_type": "code",
   "execution_count": 1,
   "metadata": {},
   "outputs": [],
   "source": [
    "from osgeo import gdal\n",
    "from osgeo import ogr\n",
    "import numpy as np\n",
    "import s3fs\n",
    "import os\n",
    "import os.path\n",
    "import netCDF4"
   ]
  },
  {
   "cell_type": "code",
   "execution_count": 2,
   "metadata": {},
   "outputs": [],
   "source": [
    "# Adjust the variable inputs to create the prefix for the file of interest\n",
    "bucket_name = 'noaa-goes16' # Change to 'noaa-goes17' for GOES-17 satellite\n",
    "product_name = 'ABI-L2-ACMC'# Choose a GOES-R L2+ product with a binary variable, \n",
    "                            #    ie. Clear Sky Mask (ACMC/ACMF) or Aersol Detection (ADPC/ADPF)\n",
    "year = 2020 \n",
    "day_of_year = 296 \n",
    "hour = 16\n",
    "\n",
    "# Adjust pathname to local directory\n",
    "directory = \"/Users/daniellelosos/GOESforGIS/\""
   ]
  },
  {
   "cell_type": "code",
   "execution_count": 3,
   "metadata": {},
   "outputs": [],
   "source": [
    "# Make new directories to store files\n",
    "if not os.path.isdir(directory + product_name +\"_netCDFs\"):\n",
    "    os.mkdir(directory + product_name +\"_netCDFs\")\n",
    "if not os.path.isdir(directory + product_name +\"_shapefiles\"):\n",
    "    os.mkdir(directory + product_name +\"_shapefiles\") "
   ]
  },
  {
   "cell_type": "code",
   "execution_count": 4,
   "metadata": {},
   "outputs": [
    {
     "name": "stdout",
     "output_type": "stream",
     "text": [
      "noaa-goes16/ABI-L2-ACMC/2020/296/16/\n"
     ]
    }
   ],
   "source": [
    "# Enable GDAL/OGR exceptions\n",
    "gdal.UseExceptions()\n",
    "\n",
    "# Use anonymous credentials to access public data  from AWS\n",
    "fs = s3fs.S3FileSystem(anon=True)\n",
    "\n",
    "# Write prefix for the files of interest, and list all files beginning with this prefix.\n",
    "prefix = f'{bucket_name}/{product_name}/{year}/{day_of_year:03.0f}/{hour:02.0f}/'\n",
    "print(prefix)\n",
    "files = fs.ls(prefix)"
   ]
  },
  {
   "cell_type": "code",
   "execution_count": 5,
   "metadata": {},
   "outputs": [
    {
     "name": "stdout",
     "output_type": "stream",
     "text": [
      "DATASET:\n",
      "noaa-goes16/ABI-L2-ACMC/2020/296/16/OR_ABI-L2-ACMC-M6_G16_s20202961601166_e20202961603539_c20202961604353.nc\n",
      "\n",
      "SUBDATASETS:\n",
      "[1500x2500] cloud_binary_mask (8-bit integer)\n",
      "NETCDF:\"/Users/daniellelosos/GOESforGIS/ABI-L2-ACMC_netCDFs/OR_ABI-L2-ACMC-M6_G16_s20202961601166_e20202961603539_c20202961604353.nc\":BCM\n",
      "[1500x2500] status_flag (8-bit integer)\n",
      "NETCDF:\"/Users/daniellelosos/GOESforGIS/ABI-L2-ACMC_netCDFs/OR_ABI-L2-ACMC-M6_G16_s20202961601166_e20202961603539_c20202961604353.nc\":DQF\n"
     ]
    }
   ],
   "source": [
    "#Read the first netCDF file in the list (closest to the top of the hour) and download\n",
    "first_file = files[0]\n",
    "path = directory + product_name +\"_netCDFs/\" + first_file.split(\"/\")[-1]\n",
    "fs.download(first_file, path)\n",
    "dataset = gdal.Open(path, gdal.GA_ReadOnly)\n",
    "print (\"DATASET:\\n\" + first_file)\n",
    "print (\"\\nSUBDATASETS:\")\n",
    "subdatasets = dataset.GetSubDatasets()\n",
    "for fname, name in subdatasets:\n",
    "    print (name)\n",
    "    print (fname)"
   ]
  },
  {
   "cell_type": "code",
   "execution_count": 6,
   "metadata": {},
   "outputs": [
    {
     "name": "stdout",
     "output_type": "stream",
     "text": [
      "Selected variable: BCM\n"
     ]
    }
   ],
   "source": [
    "# Choose the first variable/subdataset in the netCDF file to convert to a GeoTIFF.\n",
    "# See the file's other variables in the \"SUBDATASETS:\" output, formatted as NETCDF:\"filename\":variable\n",
    "# If the first subdataset does not contain the variable of intrest, adjust the list number below\n",
    "f = netCDF4.Dataset(path)\n",
    "var = list(f.variables.keys())[0] # (Optional) Adjust this list number, ie. [0] selects the 1st subdataset \n",
    "print (\"Selected variable: \" + var)"
   ]
  },
  {
   "cell_type": "code",
   "execution_count": 7,
   "metadata": {},
   "outputs": [
    {
     "name": "stdout",
     "output_type": "stream",
     "text": [
      "/Users/daniellelosos/GOESforGIS/ABI-L2-ACMC_BCM has been generated\n"
     ]
    }
   ],
   "source": [
    "# Use gdal to open the selected variable's raster band\n",
    "layer = gdal.Open(\"NETCDF:{0}:{1}\".format(path, var))\n",
    "band = layer.GetRasterBand(1)\n",
    "\n",
    "# Create an output shapfile with a layer containing a new field\n",
    "drv = ogr.GetDriverByName('ESRI Shapefile')\n",
    "shp_name = directory + product_name + \"_shapefiles\" + var \n",
    "outfile = drv.CreateDataSource(shp_name + \".shp\") \n",
    "outlayer = outfile.CreateLayer('polygonized raster', srs = None )\n",
    "newField = ogr.FieldDefn(product_name, ogr.OFTReal)\n",
    "outlayer.CreateField(newField)\n",
    "\n",
    "# Use gdal.polygonize to convert the raster band into a polygons and store binary values of each polygon in new field\n",
    "gdal.Polygonize(band, None, outlayer, 0, [])\n",
    "outfile = None\n",
    "print(shp_name + \" has been generated\")"
   ]
  },
  {
   "cell_type": "code",
   "execution_count": null,
   "metadata": {},
   "outputs": [],
   "source": []
  }
 ],
 "metadata": {
  "kernelspec": {
   "display_name": "opencv",
   "language": "python",
   "name": "opencv"
  },
  "language_info": {
   "codemirror_mode": {
    "name": "ipython",
    "version": 3
   },
   "file_extension": ".py",
   "mimetype": "text/x-python",
   "name": "python",
   "nbconvert_exporter": "python",
   "pygments_lexer": "ipython3",
   "version": "3.7.7"
  }
 },
 "nbformat": 4,
 "nbformat_minor": 4
}
